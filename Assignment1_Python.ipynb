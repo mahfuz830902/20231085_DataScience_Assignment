{
  "nbformat": 4,
  "nbformat_minor": 0,
  "metadata": {
    "colab": {
      "provenance": []
    },
    "kernelspec": {
      "name": "python3",
      "display_name": "Python 3"
    },
    "language_info": {
      "name": "python"
    }
  },
  "cells": [
    {
      "cell_type": "markdown",
      "source": [
        "**Python: Variables**\n",
        "\n",
        "a) Use input( ) function to accept numbers from user as a value of a variable x.\n",
        "\n",
        "b) Check the data type using type( ) function.\n",
        "\n",
        "c) Also convert the data type to integer and assign to the variable y.\n",
        "\n",
        "d) Convert the data type into float and assign to the variable z .\n",
        "\n",
        "e) display the data type of x, y, and z"
      ],
      "metadata": {
        "id": "Ci76DfYhk9LA"
      }
    },
    {
      "cell_type": "code",
      "source": [
        "x = input(\"Give a number:\")\n",
        "print(\"type(x) :\",type(x))\n",
        "y = int(x)\n",
        "z = float(x)\n",
        "\n",
        "print(\"x=\", x, \"y=\",y, \"z=\",z)\n",
        "print(type(x),type(y),type(z))"
      ],
      "metadata": {
        "id": "oUTdZhYqk5vJ",
        "colab": {
          "base_uri": "https://localhost:8080/"
        },
        "outputId": "6eb6d3d7-3f01-4ce0-8428-c230f2ae0ab0"
      },
      "execution_count": null,
      "outputs": [
        {
          "output_type": "stream",
          "name": "stdout",
          "text": [
            "Give a number:239\n",
            "type(x) : <class 'str'>\n",
            "x= 239 y= 239 z= 239.0\n",
            "<class 'str'> <class 'int'> <class 'float'>\n"
          ]
        }
      ]
    },
    {
      "cell_type": "markdown",
      "source": [
        "**Strings in Python:**\n",
        "\n",
        "a) Write a Python program to calculate the length of a string.\n",
        "\n",
        "b) Write a Python program to count the number of characters in a string.\n",
        "\n",
        "c) Write a Python program to remove the kth index character from a string.\n",
        "\n",
        "d) Write a Python program to remove the characters which have odd index values of a givenstring.\n",
        "\n",
        "e) Write a Python script that takes input from the user and displays that input back in upper and\n",
        "lower cases.\n",
        "\n",
        "f) Write a Python program to sort a string\n",
        "\n",
        "g) Write a Python program to reverse a string.\n",
        "\n",
        "h) Write a Python program to convert a given string into a list."
      ],
      "metadata": {
        "id": "KCeuHnFIvzSm"
      }
    },
    {
      "cell_type": "code",
      "source": [
        "# a) Write a Python program to calculate the length of a string.\n",
        "x = input(\"Give a String:\")\n",
        "print(\"Length of string :\",len(x))"
      ],
      "metadata": {
        "id": "FuRXdf5M2PoY",
        "colab": {
          "base_uri": "https://localhost:8080/"
        },
        "outputId": "ba069de9-ca8f-4007-c371-0419922109b4"
      },
      "execution_count": null,
      "outputs": [
        {
          "output_type": "stream",
          "name": "stdout",
          "text": [
            "Give a String:My name is Mahfuz.\n",
            "Length of string : 18\n"
          ]
        }
      ]
    },
    {
      "cell_type": "code",
      "source": [
        "# b) Write a Python program to count the number of characters in a string.\n",
        "\n",
        "string = input(\"Give a String:\")\n",
        "count = 0;     \n",
        "\n",
        "for i in range(0, len(string)):  \n",
        "    if(string[i] != ' '):     # only characters alowed\n",
        "        count = count + 1;  \n",
        "    \n",
        "print(\"Total number of characters in a string:\", count);"
      ],
      "metadata": {
        "colab": {
          "base_uri": "https://localhost:8080/"
        },
        "id": "2krPWcmblS3w",
        "outputId": "6991f635-a2d6-4c74-84c1-de330b55b768"
      },
      "execution_count": null,
      "outputs": [
        {
          "output_type": "stream",
          "name": "stdout",
          "text": [
            "Give a String:My name is Mahfuz.\n",
            "Total number of characters in a string: 15\n"
          ]
        }
      ]
    },
    {
      "cell_type": "code",
      "source": [
        "# c) Write a Python program to remove the kth and k+1th index character from a string.\n",
        "string = input(\"Give a String:\")\n",
        "x = input(\"Give kth index:\")\n",
        "i = int(x) # convert to int\n",
        "\n",
        "a = string[: i]\n",
        "#print(a)\n",
        "b = string[i + 1:]\n",
        "#print(b)\n",
        "final_str = a + b\n",
        "#final_str =string[: i] + string[i + 1:]\n",
        "\n",
        "print(final_str)"
      ],
      "metadata": {
        "id": "rXlVZFfMmczP",
        "colab": {
          "base_uri": "https://localhost:8080/"
        },
        "outputId": "fc03d138-1628-41d8-f680-643ac9a43a91"
      },
      "execution_count": null,
      "outputs": [
        {
          "output_type": "stream",
          "name": "stdout",
          "text": [
            "Give a String:kth\n",
            "Give kth index:1\n",
            "kh\n"
          ]
        }
      ]
    },
    {
      "cell_type": "code",
      "source": [
        "# d) Write a Python program to remove the characters which have odd index values of a given string.\n",
        "string = input(\"Give a String:\")\n",
        "new_str =\"\"\n",
        "for i in range(0, len(string)):  \n",
        "    if(i % 2==0):     # Odd index remove\n",
        "        new_str = new_str + string[i]\n",
        "    \n",
        "print(\"New string is:\",new_str);  "
      ],
      "metadata": {
        "id": "oRu_ZykHoBId",
        "colab": {
          "base_uri": "https://localhost:8080/"
        },
        "outputId": "56b5ea49-f7e4-4788-8666-a2eb31d817a4"
      },
      "execution_count": null,
      "outputs": [
        {
          "output_type": "stream",
          "name": "stdout",
          "text": [
            "Give a String:Mahfuzur-R\n",
            "New string is: Mhuu-\n"
          ]
        }
      ]
    },
    {
      "cell_type": "code",
      "source": [
        "# e) Write a Python script that takes input from the user and displays that input back in upper and lower cases.\n",
        "string = input(\"Give a String:\")\n",
        "new_strU =  string.upper();\n",
        "new_strL = string.lower();\n",
        "print(\"New upper string is:\",new_strU);  \n",
        "print(\"New lower string is:\",new_strL);  "
      ],
      "metadata": {
        "id": "znGcaWlzqXe7"
      },
      "execution_count": null,
      "outputs": []
    },
    {
      "cell_type": "code",
      "source": [
        "# f) Write a Python program to sort a string\n",
        "string = \"write a python program to sort a string\"\n",
        "\n",
        "# printing as is:\n",
        "print(\"Given string :\", string)\n",
        "sorted_str = ''.join(sorted(string))\n",
        "\n",
        "print(\"After sorting : \", sorted_str)"
      ],
      "metadata": {
        "id": "B321C_0Tq9ui"
      },
      "execution_count": null,
      "outputs": []
    },
    {
      "cell_type": "code",
      "source": [
        "# g) Write a Python program to reverse a string.\n",
        "string = \"Write a Python program to reverse a string.\"\n",
        "\n",
        "# printing as is:\n",
        "print(\"Given string :\", string)\n",
        "rev_str = \"\"\n",
        "for i in string:  \n",
        "        rev_str = i + rev_str\n",
        "\n",
        "print(\"After reverse :\", rev_str)"
      ],
      "metadata": {
        "id": "_t0u3s83rCUC"
      },
      "execution_count": null,
      "outputs": []
    },
    {
      "cell_type": "code",
      "source": [
        "# h) Write a Python program to convert a given string into a list.\n",
        "string = \"Write a Python program to convert a given string into a list\"\n",
        "li = list(string.split(\" \"))\n",
        "\n",
        "print(\"After listing : \", li)"
      ],
      "metadata": {
        "id": "EKqYDmSBrEby"
      },
      "execution_count": null,
      "outputs": []
    },
    {
      "cell_type": "markdown",
      "source": [
        "**Python: Lists**\n",
        "\n",
        "a) Write a Python program to sum (or product) all the items in a list\n",
        "\n",
        "b) Write a Python program to get the largest/smallest number from a list\n",
        "\n",
        "c) Write a Python program to print the numbers of a specified list after removing even numbers\n",
        "from it\n",
        "\n",
        "d) Write a Python program to select the odd number of a list\n",
        "\n",
        "e) Write a Python program to convert a list of characters into a string\n",
        "\n",
        "f) Write a Python program to find the index of an item in a specified list\n",
        "\n",
        "g) Write a Python program to add a list to the second list\n",
        "\n",
        "h) Write a Python program to get unique values from a list and to count unique values inside a\n",
        "list. Also get the frequency of the elements in the list.\n",
        "\n",
        "i) Write a Python Program to Extract elements with Frequency greater than K\n",
        "\n",
        "j) Write a Python program to reverse All Strings in String List"
      ],
      "metadata": {
        "id": "z0e01KEKvoFA"
      }
    },
    {
      "cell_type": "code",
      "source": [
        "# a) Write a Python program to sum (or product) all the items in a list\n",
        "items = [12,45,25,14,78,65,23,78]\n",
        "print(items)\n",
        "sum_items = 0\n",
        "for x in items:\n",
        "  sum_items += x\n",
        "\n",
        "print (\"After Summation : \",sum_items)"
      ],
      "metadata": {
        "id": "wVeZXng0wPEs",
        "colab": {
          "base_uri": "https://localhost:8080/"
        },
        "outputId": "49996991-6a72-4c2d-f95b-3b317d69f38e"
      },
      "execution_count": null,
      "outputs": [
        {
          "output_type": "stream",
          "name": "stdout",
          "text": [
            "[12, 45, 25, 14, 78, 65, 23, 78]\n",
            "340\n"
          ]
        }
      ]
    },
    {
      "cell_type": "code",
      "source": [
        "# b) Write a Python program to get the largest/smallest number from a list\n",
        "items = [12,45,25,14,78,65,23,78]\n",
        "print(items)\n",
        "items.sort()\n",
        "smallest = items[0]\n",
        "items.sort(reverse = True)\n",
        "largest = items[0]\n",
        "\n",
        "print (\"smallest : \",smallest)\n",
        "print (\"largest : \",largest)"
      ],
      "metadata": {
        "id": "ubY3jrq1ysR0"
      },
      "execution_count": null,
      "outputs": []
    },
    {
      "cell_type": "code",
      "source": [
        "# c) Write a Python program to print the numbers of a specified list after removing even numbers from it\n",
        "items = [12,45,25,14,78,65,23,78,39]\n",
        "\n",
        "#new_items = [x for x in items if x%2!=0]\n",
        "new_items = []\n",
        "for x in items:  \n",
        "    if(x % 2==1):    \n",
        "        new_items.append(x)\n",
        "    \n",
        "print(\"New list is:\",new_items); \n"
      ],
      "metadata": {
        "id": "FK4L2agJysf0"
      },
      "execution_count": null,
      "outputs": []
    },
    {
      "cell_type": "code",
      "source": [
        "# d) Write a Python program to select the odd number of a list\n",
        "items = [12,45,25,14,78,65,23,78,39]\n",
        "\n",
        "new_items = []\n",
        "for x in items:  \n",
        "    if(x % 2==1):     \n",
        "        new_items.append(x)\n",
        "    \n",
        "print(\"New list is:\",new_items); "
      ],
      "metadata": {
        "id": "2LixBUqeyuFE"
      },
      "execution_count": null,
      "outputs": []
    },
    {
      "cell_type": "code",
      "source": [
        "# e) Write a Python program to convert a list of characters into a string\n",
        "s = ['P', 'y', 't', 'h', 'o', 'n']\n",
        "string = ''.join(s)\n",
        "\n",
        "print(\"New string is:\",string); "
      ],
      "metadata": {
        "id": "ZwVUv-QGyuPH",
        "colab": {
          "base_uri": "https://localhost:8080/"
        },
        "outputId": "ca443d17-31af-4533-a19d-6d383b9a4be9"
      },
      "execution_count": null,
      "outputs": [
        {
          "output_type": "stream",
          "name": "stdout",
          "text": [
            "New string is: Python\n"
          ]
        }
      ]
    },
    {
      "cell_type": "code",
      "source": [
        "# f) Write a Python program to find the index of an item in a specified list\n",
        "items = [12,45,29,14,78,65,23,78,39]\n",
        "\n",
        "print( items.index(23))"
      ],
      "metadata": {
        "id": "C_fTZwweyuZL",
        "colab": {
          "base_uri": "https://localhost:8080/"
        },
        "outputId": "f144971a-2618-4eee-ae88-7afb163d307f"
      },
      "execution_count": null,
      "outputs": [
        {
          "output_type": "stream",
          "name": "stdout",
          "text": [
            "6\n"
          ]
        }
      ]
    },
    {
      "cell_type": "code",
      "source": [
        "#g) Write a Python program to add a list to the second list\n",
        "\n",
        "items = [12,45,29,14,78,65,23,78,39]\n",
        "\n",
        "items2 = ['Red', 'Green', 'Blue', 'Black','Cyan']\n",
        "\n",
        "final_list = items + items2\n",
        "\n",
        "print( final_list)"
      ],
      "metadata": {
        "id": "v4ptdC3ByukM",
        "colab": {
          "base_uri": "https://localhost:8080/"
        },
        "outputId": "952fd22d-9992-479a-d002-b6d311218b92"
      },
      "execution_count": null,
      "outputs": [
        {
          "output_type": "stream",
          "name": "stdout",
          "text": [
            "[12, 45, 29, 14, 78, 65, 23, 78, 39, 'Red', 'Green', 'Blue', 'Black', 'Cyan']\n"
          ]
        }
      ]
    },
    {
      "cell_type": "code",
      "source": [
        "# h) Write a Python program to get unique values from a list and to count unique values inside a list. \n",
        "# Also get the frequency of the elements in the list.\n",
        "\n",
        "items = [12,45,39,23,78,39,65,23,78,39]\n",
        "\n",
        "ulist = []\n",
        "clist = []\n",
        "\n",
        "for x in items:\n",
        "    if x not in ulist:\n",
        "        ulist.append(x)\n",
        "print( ulist)\n",
        "\n",
        "for x in ulist:\n",
        " clist.append(items.count(x))\n",
        "\n",
        "\n",
        "for i in range(len(ulist)):\n",
        "   print(ulist[i],\" is \",clist[i],\"time(s)\")\n",
        "\n",
        "print(\"frequency of the elements\",clist) "
      ],
      "metadata": {
        "id": "oiYdovBpyxFj",
        "colab": {
          "base_uri": "https://localhost:8080/"
        },
        "outputId": "51aafd6e-143f-4c93-c10d-e73ce8f3723b"
      },
      "execution_count": null,
      "outputs": [
        {
          "output_type": "stream",
          "name": "stdout",
          "text": [
            "[12, 45, 39, 23, 78, 65]\n",
            "12  is  1 time(s)\n",
            "45  is  1 time(s)\n",
            "39  is  3 time(s)\n",
            "23  is  2 time(s)\n",
            "78  is  2 time(s)\n",
            "65  is  1 time(s)\n",
            "frequency of the elements [1, 1, 3, 2, 2, 1]\n"
          ]
        }
      ]
    },
    {
      "cell_type": "code",
      "source": [
        "# i) Write a Python Program to Extract elements with Frequency greater than K\n",
        "\n",
        "items = [9, 4, 7,6, 2, 3, 7, 2, 4, 3, 3, 9, 4, 3, 7, 8, 9, 8, 5, 2, 3, 9, 2, 1, 7]\n",
        "print(\"Original items : \", items)\n",
        " \n",
        "K  = input(\"Give K value:\")\n",
        "if int(K) > -1 :\n",
        "  res = []\n",
        "  K = int(K)\n",
        "  for i in items:\n",
        "      freq = items.count(i)\n",
        "      if freq > K and i not in res:\n",
        "          res.append(i)\n",
        "  print(\"Frequency greater than K : \", res)\n",
        "\n",
        "else:\n",
        "  print(\"Given K value is not a number.\") \n"
      ],
      "metadata": {
        "id": "qsSH3EoeyxRC",
        "colab": {
          "base_uri": "https://localhost:8080/"
        },
        "outputId": "f68e6c6c-2555-4c62-cf54-3f4033ce86f1"
      },
      "execution_count": null,
      "outputs": [
        {
          "output_type": "stream",
          "name": "stdout",
          "text": [
            "Original items :  [9, 4, 7, 6, 2, 3, 7, 2, 4, 3, 3, 9, 4, 3, 7, 8, 9, 8, 5, 2, 3, 9, 2, 1, 7]\n",
            "Give K value:2\n",
            "Frequency greater than K :  [9, 4, 7, 2, 3]\n"
          ]
        }
      ]
    },
    {
      "cell_type": "code",
      "source": [
        "# j) Write a Python program to reverse All Strings in String List\n",
        "\n",
        "items = ['Red', 'Green', 'Blue', 'Black','Cyan']\n",
        "rlist = []\n",
        "\n",
        "for x in items:\n",
        "  rlist.append(x[::-1])\n",
        "  \n",
        "print( \"Original items:\",items)\n",
        "print( \"Reverse items:\",rlist)"
      ],
      "metadata": {
        "id": "AhrjD6zsyxzb",
        "colab": {
          "base_uri": "https://localhost:8080/"
        },
        "outputId": "c8a0ae8c-9438-409b-91e6-0455600fc7dd"
      },
      "execution_count": null,
      "outputs": [
        {
          "output_type": "stream",
          "name": "stdout",
          "text": [
            "Original items: ['Red', 'Green', 'Blue', 'Black', 'Cyan']\n",
            "Reverse items: ['deR', 'neerG', 'eulB', 'kcalB', 'nayC']\n"
          ]
        }
      ]
    },
    {
      "cell_type": "markdown",
      "source": [
        "**Python : Dictionary**\n",
        "\n",
        "a) Write a Python script to create a dictionary (i) Create a dictionary named **fruit** with keys:\n",
        "(names, color, taste). add Mango and Lemon as the value of key- **names**, **yellow** and **green** as\n",
        "the value of color, sweet and sour as the value of taste. (ii) display the dictionary. (iii) add a\n",
        "new value, **Apple** in the names\n",
        "\n",
        "b) Write a Python program to add a key to a dictionary\n",
        "\n",
        "c) Write a Python program to check whether a given key already exists in a dictionary.\n",
        "\n",
        "d) Access dictionary key’s element by index.\n",
        "\n",
        "e) Write a Python program to iterate over dictionaries using for loops.\n",
        "\n",
        "f) Write a Python script to print a dictionary where the keys are numbers between 1 and n (both included) and the values are square of keys.\n",
        "\n",
        "g) Create a dictionary by extracting the keys from a given dictionary\n",
        "\n",
        "h) Write a Python program to Rename key of a dictionary\n",
        "\n",
        "i) Write a program to print only keys of a dictionary\n",
        "\n",
        "j) Write a program to print values of dictionary."
      ],
      "metadata": {
        "id": "prAVOyiEwQYz"
      }
    },
    {
      "cell_type": "code",
      "source": [
        "# a) Write a Python script to create a dictionary \n",
        "# (i) Create a dictionary named fruit with keys: (names, color, taste). \n",
        "#     add Mango and Lemon as the value of key- names, yellow \n",
        "#     and green as the value of color, sweet and sour as the value of taste. \n",
        "# (ii) display the dictionary. \n",
        "# (iii) add a new value, Apple in the names\n",
        "#\n",
        "\n",
        "fruit = {\"names\": [\"Mango\", \"Lemon\"], \"color\" :[\"yellow\", \"green\"] , \"taste\": [\"sweet\", \"sour\" ]}\n",
        "keys = fruit.keys();\n",
        "values = fruit.values()\n",
        "print(\"Given dict :\",fruit)\n",
        "print(keys)\n",
        "print(values)\n",
        "fruit[\"names\"].append(\"Apple\")\n",
        "print(\"New dict :\",fruit)"
      ],
      "metadata": {
        "id": "NIG02kaXwWfi"
      },
      "execution_count": null,
      "outputs": []
    },
    {
      "cell_type": "code",
      "source": [
        "# b) Write a Python program to add a key to a dictionary\n",
        "\n",
        "fruit = {\"names\": [\"Mango\", \"Lemon\"], \"color\" :[\"yellow\", \"green\"] , \"taste\": [\"sweet\", \"sour\" ]}\n",
        "print(fruit.keys())\n",
        "fruit[\"calories\"] =[]           # only key\n",
        "#fruit[\"calories\"] = [35,22]    # key with values\n",
        "\n",
        "print(fruit.keys())\n",
        "print(\"New dict :\",fruit)"
      ],
      "metadata": {
        "id": "RKvGJRlk7Waj"
      },
      "execution_count": null,
      "outputs": []
    },
    {
      "cell_type": "code",
      "source": [
        "# c) Write a Python program to check whether a given key already exists in a dictionary.\n",
        "\n",
        "fruit = {\"names\": [\"Mango\", \"Lemon\"], \"color\" :[\"yellow\", \"green\"] , \"taste\": [\"sweet\", \"sour\" ]}\n",
        "key = input(\"check the key :\")\n",
        "\n",
        "if key in fruit.keys():\n",
        "   print(key,\"is exist.\")\n",
        "else:\n",
        "   print(key, \"is not exist.\")\n"
      ],
      "metadata": {
        "id": "Cx2V327C7WlY",
        "colab": {
          "base_uri": "https://localhost:8080/"
        },
        "outputId": "d26f01e5-652d-41b6-a05d-264ca2f0901e"
      },
      "execution_count": null,
      "outputs": [
        {
          "output_type": "stream",
          "name": "stdout",
          "text": [
            "check the key :name\n",
            "name  is not Present.\n"
          ]
        }
      ]
    },
    {
      "cell_type": "code",
      "source": [
        "# d) Access dictionary key’s element by index.\n",
        "\n",
        "fruit = {\"names\": [\"Mango\", \"Lemon\"], \"color\" :[\"yellow\", \"green\"] , \"taste\": [\"sweet\", \"sour\" ]}\n",
        "\n",
        "print(\"Given dict :\",fruit)\n",
        "print(\"Keys are :\",fruit.keys())\n",
        "key_i = int(input(\"Give the index of key :\"))\n",
        "\n",
        "if key_i < len(fruit.keys()) and key_i > -1:\n",
        "  print(\"Key is :\",list(fruit)[key_i])\n",
        "else:\n",
        "  print(\"Out of index Range\")\n"
      ],
      "metadata": {
        "id": "LVew5CSj7Wp5"
      },
      "execution_count": null,
      "outputs": []
    },
    {
      "cell_type": "code",
      "source": [
        "# e) Write a Python program to iterate over dictionaries using for loops.\n",
        "fruit = {\"names\": [\"Mango\", \"Lemon\"], \"color\" :[\"yellow\", \"green\"] , \"taste\": [\"sweet\", \"sour\" ]}\n",
        "\n",
        "for key in fruit:\n",
        "    print(key, fruit[key])\n",
        "    "
      ],
      "metadata": {
        "id": "dNz4h7ab7WuB",
        "colab": {
          "base_uri": "https://localhost:8080/"
        },
        "outputId": "523138fa-8e44-4307-ea61-e3bb5ad1f37d"
      },
      "execution_count": null,
      "outputs": [
        {
          "output_type": "stream",
          "name": "stdout",
          "text": [
            "names ['Mango', 'Lemon']\n",
            "color ['yellow', 'green']\n",
            "taste ['sweet', 'sour']\n"
          ]
        }
      ]
    },
    {
      "cell_type": "code",
      "source": [
        "# f) Write a Python script to print a dictionary where the keys are numbers \n",
        "#    between 1 and n (both included) and the values are square of keys.\n",
        "my_dict = dict()\n",
        "n = int(input(\"Give the nth key :\"))\n",
        "\n",
        "for i in range(1,n+1):\n",
        "  my_dict[i]= i*i\n",
        " \n",
        "print(\"type(my_dict) =\",type(my_dict))\n",
        "print(my_dict)\n"
      ],
      "metadata": {
        "id": "i95jT0HQ7YnR"
      },
      "execution_count": null,
      "outputs": []
    },
    {
      "cell_type": "code",
      "source": [
        "# g) Create a dictionary by extracting the keys from a given dictionary\n",
        "\n",
        "fruit = {\"names\": [\"Mango\", \"Lemon\"], \"color\" :[\"yellow\", \"green\"] , \"taste\": [\"sweet\", \"sour\" ]}\n",
        "\n",
        "print(\"Given dictionary :\",fruit)\n",
        "\n",
        "keys_to_extract = ['names', 'taste']\n",
        "new_dict = dict()\n",
        "\n",
        "for key, value in fruit.items():\n",
        "    if key in keys_to_extract:\n",
        "        new_dict[key] = value\n",
        "\n",
        "print(\"The extracted new dictionary is :\", new_dict)\n"
      ],
      "metadata": {
        "id": "ljNWi63i7Yu5"
      },
      "execution_count": null,
      "outputs": []
    },
    {
      "cell_type": "code",
      "source": [
        "# h) Write a Python program to Rename key of a dictionary\n",
        "\n",
        "fruit = {\"names\": [\"Mango\", \"Lemon\"], \"color\" :[\"yellow\", \"green\"] , \"taste\": [\"sweet\", \"sour\" ]}\n",
        "print(\"Given dictionary :\",fruit)\n",
        "fruit[\"name\"]= fruit.pop(\"names\")\n",
        "print(\"After renaming :\", fruit)"
      ],
      "metadata": {
        "id": "N6RJ85Ng7Y2A"
      },
      "execution_count": null,
      "outputs": []
    },
    {
      "cell_type": "code",
      "source": [
        "# i) Write a program to print only keys of a dictionary\n",
        "\n",
        "fruit = {\"names\": [\"Mango\", \"Lemon\"], \"color\" :[\"yellow\", \"green\"] , \"taste\": [\"sweet\", \"sour\" ]}\n",
        "# keys = fruit.keys()\n",
        "\n",
        "print(\"Given dictionary :\",fruit)\n",
        "print(\"Keys are :\")\n",
        "for x in fruit.keys():\n",
        "  print(\"\\t\",x)\n"
      ],
      "metadata": {
        "id": "lFES8TFM7Y9M",
        "colab": {
          "base_uri": "https://localhost:8080/"
        },
        "outputId": "75a3cd10-33c7-4c3d-faf2-6372d978a953"
      },
      "execution_count": null,
      "outputs": [
        {
          "output_type": "stream",
          "name": "stdout",
          "text": [
            "Given dictionary : {'names': ['Mango', 'Lemon'], 'color': ['yellow', 'green'], 'taste': ['sweet', 'sour']}\n",
            "Keys are :\n",
            "\t names\n",
            "\t color\n",
            "\t taste\n"
          ]
        }
      ]
    },
    {
      "cell_type": "code",
      "source": [
        "#  j) Write a program to print values of dictionary.\n",
        "\n",
        "fruit = {\"names\": [\"Mango\", \"Lemon\"], \"color\" :[\"yellow\", \"green\"] , \"taste\": [\"sweet\", \"sour\" ]}\n",
        "#values = fruit.values()\n",
        "print(\"Given dictionary :\",fruit)\n",
        "\n",
        "print(\"Values are :\")\n",
        "for x in fruit.values():\n",
        "  print(\"\\t\",x)\n"
      ],
      "metadata": {
        "id": "7NXUKoRJ7ZEa",
        "colab": {
          "base_uri": "https://localhost:8080/"
        },
        "outputId": "d4aff61c-e597-46aa-f98c-58b192dbb9ba"
      },
      "execution_count": null,
      "outputs": [
        {
          "output_type": "stream",
          "name": "stdout",
          "text": [
            "Given dictionary : {'names': ['Mango', 'Lemon'], 'color': ['yellow', 'green'], 'taste': ['sweet', 'sour']}\n",
            "Values are :\n",
            "\t ['Mango', 'Lemon']\n",
            "\t ['yellow', 'green']\n",
            "\t ['sweet', 'sour']\n"
          ]
        }
      ]
    },
    {
      "cell_type": "markdown",
      "source": [
        "Python: Loops\n",
        "\n",
        "a) Print First 10 natural numbers using while loop\n",
        "\n",
        "b) Write a program to print multiplication table of a given number\n",
        "\n",
        "c) Display numbers from a list using loop\n",
        "\n",
        "d) Print list in reverse order using a loop\n",
        "\n",
        "e) Display numbers from -10 to -1 using for loop\n",
        "\n",
        "f) Find the factorial of a given number\n",
        "\n",
        "g) Use a loop to display elements from a given list present at odd index positions\n",
        "\n",
        "h) Calculate the cube of all numbers from 1 to a given number"
      ],
      "metadata": {
        "id": "D3V0oPQrwZ3U"
      }
    },
    {
      "cell_type": "code",
      "source": [
        "#  a) Print First 10 natural numbers using while loop\n",
        "\n",
        "i = 1\n",
        "while i <= 10:\n",
        "    print(i)\n",
        "    i += 1"
      ],
      "metadata": {
        "id": "RMf3t0iKwZEj"
      },
      "execution_count": null,
      "outputs": []
    },
    {
      "cell_type": "code",
      "source": [
        "#  b) Write a program to print multiplication table of a given number\n",
        "\n",
        "x = int(input(\"Give a number for multiplication table : \"))\n",
        "\n",
        "i = 1\n",
        "while i <= 10:\n",
        "    print( x, \" x \", i, \" = \", x*i)\n",
        "    i += 1\n",
        "\n"
      ],
      "metadata": {
        "id": "LolI7WXU9EVm"
      },
      "execution_count": null,
      "outputs": []
    },
    {
      "cell_type": "code",
      "source": [
        "#  c) Display numbers from a list using loop\n",
        "list = [3,4,2,6,7,9,12,32,45,55]\n",
        "i = 0\n",
        "while i < len(list):\n",
        "    print(  \"Item\", i+1,\"Index\", i, \" = \", list[i])\n",
        "    i += 1\n"
      ],
      "metadata": {
        "id": "eKtiYy8F9FPu"
      },
      "execution_count": null,
      "outputs": []
    },
    {
      "cell_type": "code",
      "source": [
        "#  d) Print list in reverse order using a loop\n",
        "\n",
        "list = [3,4,2,6,7,9,12,32,45,55]\n",
        "i = len(list)-1\n",
        "while i >= 0:\n",
        "    print(  \"Item\", i+1,\"Index\", i, \" = \", list[i])\n",
        "    i -= 1"
      ],
      "metadata": {
        "id": "vI4-g4rc9GVl"
      },
      "execution_count": null,
      "outputs": []
    },
    {
      "cell_type": "code",
      "source": [
        "#  e) Display numbers from -10 to -1 using for loop\n",
        "\n",
        "for i in range(-10,0,1):\n",
        "  print(i)"
      ],
      "metadata": {
        "id": "qdFP_-Mg9Gnx"
      },
      "execution_count": null,
      "outputs": []
    },
    {
      "cell_type": "code",
      "source": [
        "#  f) Find the factorial of a given number\n",
        "\n",
        "num = int(input(\"Give a number for factorial : \"))\n",
        "fact = 1\n",
        "\n",
        "# check if the number is negative, positive or zero\n",
        "if num < 0:\n",
        "   print(\"Sorry, factorial does not exist for negative numbers\")\n",
        "elif num == 0:\n",
        "   print(\"The factorial of 0 is 1\")\n",
        "else:\n",
        "   for i in range(1,num + 1):\n",
        "       fact = fact*i\n",
        "   print(\"The factorial of\",num,\"is\",fact)\n"
      ],
      "metadata": {
        "id": "6cgbc7W09G0d"
      },
      "execution_count": null,
      "outputs": []
    },
    {
      "cell_type": "code",
      "source": [
        "#  g) Use a loop to display elements from a given list present at odd index positions\n",
        "\n",
        "list = [3,4,2,6,7,9,12,32,45,55,88]\n",
        "\n",
        "for i in range(1,len(list),2):\n",
        "  print(\"list index : \", i ,\" Value :\", list[i])"
      ],
      "metadata": {
        "id": "Ss_97A3Y9HOl"
      },
      "execution_count": null,
      "outputs": []
    },
    {
      "cell_type": "code",
      "source": [
        "#  h) Calculate the cube of all numbers from 1 to a given number\n",
        "\n",
        "num = float(input(\" Please Enter any numeric Value : \"))\n",
        "\n",
        "res = num **3\n",
        "print(\"The Cube of a Given Number {0}  = {1}\".format(num, res))\n"
      ],
      "metadata": {
        "id": "5aEcQCpO9IkN",
        "colab": {
          "base_uri": "https://localhost:8080/"
        },
        "outputId": "adcd313f-0354-4fc4-b330-d4c181fa7f1b"
      },
      "execution_count": null,
      "outputs": [
        {
          "output_type": "stream",
          "name": "stdout",
          "text": [
            " Please Enter any numeric Value : 5\n",
            "The Cube of a Given Number 5.0  = 125.0\n"
          ]
        }
      ]
    },
    {
      "cell_type": "markdown",
      "source": [
        "Python: User-defined Functions\n",
        "\n",
        "a) write a python program to create a function that will return a list of the unique digits in your\n",
        "class ID."
      ],
      "metadata": {
        "id": "7CdpC_UEwexq"
      }
    },
    {
      "cell_type": "code",
      "source": [
        "#  a) write a python program to create a function that will return a list of the unique digits in your class ID.\n",
        "\n",
        "def uniq_list(class_id):\n",
        "  res = []\n",
        "  for i in str(class_id):\n",
        "    if i.isdigit() and i not in res:\n",
        "      res.append(i)\n",
        "  return res\n",
        "my_class_id = 20231085\n",
        "print(uniq_list(my_class_id))\n"
      ],
      "metadata": {
        "id": "n09QZ_LWwhZs",
        "colab": {
          "base_uri": "https://localhost:8080/"
        },
        "outputId": "467a5dc6-9537-4540-a493-c23d90dd5575"
      },
      "execution_count": null,
      "outputs": [
        {
          "output_type": "stream",
          "name": "stdout",
          "text": [
            "['2', '0', '3', '1', '8', '5']\n"
          ]
        }
      ]
    }
  ]
}