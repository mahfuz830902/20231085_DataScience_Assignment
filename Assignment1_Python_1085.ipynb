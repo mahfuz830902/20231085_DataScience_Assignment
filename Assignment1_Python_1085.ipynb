{
  "nbformat": 4,
  "nbformat_minor": 0,
  "metadata": {
    "colab": {
      "provenance": [],
      "authorship_tag": "ABX9TyO7i/izDayz+tejmzEnOr2A",
      "include_colab_link": true
    },
    "kernelspec": {
      "name": "python3",
      "display_name": "Python 3"
    },
    "language_info": {
      "name": "python"
    }
  },
  "cells": [
    {
      "cell_type": "markdown",
      "metadata": {
        "id": "view-in-github",
        "colab_type": "text"
      },
      "source": [
        "<a href=\"https://colab.research.google.com/github/mahfuz830902/20231085_DataScience_Assignment/blob/main/Assignment1_Python_1085.ipynb\" target=\"_parent\"><img src=\"https://colab.research.google.com/assets/colab-badge.svg\" alt=\"Open In Colab\"/></a>"
      ]
    },
    {
      "cell_type": "markdown",
      "source": [
        "**Python: Variables**\n",
        "\n",
        "a) Use input( ) function to accept numbers from user as a value of a variable x.\n",
        "\n",
        "b) Check the data type using type( ) function.\n",
        "\n",
        "c) Also convert the data type to integer and assign to the variable y.\n",
        "\n",
        "d) Convert the data type into float and assign to the variable z .\n",
        "\n",
        "e) display the data type of x, y, and z"
      ],
      "metadata": {
        "id": "Ci76DfYhk9LA"
      }
    },
    {
      "cell_type": "code",
      "source": [
        "x = input(\"Give a number:\")\n",
        "print(\"type(x) :\",type(x))\n",
        "y = int(x)\n",
        "z = float(x)\n",
        "\n",
        "#print(\"x=\", x, \"y=\",y, \"z=\",z)\n",
        "print(\"x=\", x, type(x),\", \", \"y=\",y,type(y), \", \",\"z=\",z, type(z))"
      ],
      "metadata": {
        "id": "oUTdZhYqk5vJ",
        "colab": {
          "base_uri": "https://localhost:8080/"
        },
        "outputId": "3688e2e7-c579-4fdc-b981-5ea60612d823"
      },
      "execution_count": null,
      "outputs": [
        {
          "output_type": "stream",
          "name": "stdout",
          "text": [
            "Give a number:56\n",
            "type(x) : <class 'str'>\n",
            "x= 56 <class 'str'> ,  y= 56 <class 'int'> ,  z= 56.0 <class 'float'>\n"
          ]
        }
      ]
    },
    {
      "cell_type": "markdown",
      "source": [
        "**Strings in Python:**\n",
        "\n",
        "a) Write a Python program to calculate the length of a string.\n",
        "\n",
        "b) Write a Python program to count the number of characters in a string.\n",
        "\n",
        "c) Write a Python program to remove the kth index character from a string.\n",
        "\n",
        "d) Write a Python program to remove the characters which have odd index values of a given string.\n",
        "\n",
        "e) Write a Python script that takes input from the user and displays that input back in upper and\n",
        "lower cases.\n",
        "\n",
        "f) Write a Python program to sort a string\n",
        "\n",
        "g) Write a Python program to reverse a string.\n",
        "\n",
        "h) Write a Python program to convert a given string into a list."
      ],
      "metadata": {
        "id": "KCeuHnFIvzSm"
      }
    },
    {
      "cell_type": "code",
      "source": [
        "# a) Write a Python program to calculate the length of a string.\n",
        "x = input(\"Give a String:\")\n",
        "print(\"Length of string :\",len(x))"
      ],
      "metadata": {
        "id": "FuRXdf5M2PoY",
        "colab": {
          "base_uri": "https://localhost:8080/"
        },
        "outputId": "ea885633-a1da-4856-f848-b3a512cf7a4a"
      },
      "execution_count": null,
      "outputs": [
        {
          "output_type": "stream",
          "name": "stdout",
          "text": [
            "Give a String:My name is Mahfuz.\n",
            "Length of string : 18\n"
          ]
        }
      ]
    },
    {
      "cell_type": "code",
      "source": [
        "# b) Write a Python program to count the number of characters in a string.\n",
        "\n",
        "string = input(\"Give a String:\")\n",
        "count = 0;     \n",
        "\n",
        "for i in range(0, len(string)):  \n",
        "    if(string[i] != ' '):     # only characters alowed\n",
        "        count = count + 1;  \n",
        "    \n",
        "print(\"Total number of characters in the string: \", count);\n",
        "\n",
        "res = len([ele for ele in string if ele.isalpha()])\n",
        "print(\"Total number of alphabet characters in the string: \", res);"
      ],
      "metadata": {
        "colab": {
          "base_uri": "https://localhost:8080/"
        },
        "id": "2krPWcmblS3w",
        "outputId": "637b0ff8-19ea-466d-bd68-51d6096e1441"
      },
      "execution_count": null,
      "outputs": [
        {
          "output_type": "stream",
          "name": "stdout",
          "text": [
            "Give a String:My name is Mahfuz.\n",
            "Total number of characters in the string:  15\n",
            "Total number of alphabet characters in the string:  14\n"
          ]
        }
      ]
    },
    {
      "cell_type": "code",
      "source": [
        "# c) Write a Python program to remove the kth index character from a string.\n",
        "string = input(\"Give a String:\")\n",
        "x = input(\"Give kth index:\")\n",
        "i = int(x) # convert to int\n",
        "\n",
        "a = string[: i]\n",
        "    #print(a)\n",
        "b = string[i + 1:]\n",
        "    #print(b)\n",
        "final_str = a + b\n",
        "    #final_str =string[: i] + string[i + 1:]\n",
        "print(final_str)"
      ],
      "metadata": {
        "id": "rXlVZFfMmczP",
        "colab": {
          "base_uri": "https://localhost:8080/"
        },
        "outputId": "9eff7cda-7be7-4abd-ec30-6c4f9ef86a36"
      },
      "execution_count": null,
      "outputs": [
        {
          "output_type": "stream",
          "name": "stdout",
          "text": [
            "Give a String:My name is Mahfuz.\n",
            "Give kth index:5\n",
            "My nae is Mahfuz.\n"
          ]
        }
      ]
    },
    {
      "cell_type": "code",
      "source": [
        "# d) Write a Python program to remove the characters which have odd index values of a given string.\n",
        "string = input(\"Give a String:\")\n",
        "new_str =\"\"\n",
        "#print(len(string))\n",
        "\n",
        "for i in range(0, len(string)):   # range(0, 17) \n",
        "    #print(\"Repeat : \",i)\n",
        "    if(i % 2==0):     # Odd index remove\n",
        "        new_str = new_str + string[i]\n",
        "        #print(new_str)\n",
        "    \n",
        "print(\"New string is:\",new_str);  "
      ],
      "metadata": {
        "id": "oRu_ZykHoBId",
        "colab": {
          "base_uri": "https://localhost:8080/"
        },
        "outputId": "6ed06fa4-a0e4-43d9-ad13-b9037262683c"
      },
      "execution_count": null,
      "outputs": [
        {
          "output_type": "stream",
          "name": "stdout",
          "text": [
            "Give a String:My name is Mahfuz\n",
            "New string is: M aei afz\n"
          ]
        }
      ]
    },
    {
      "cell_type": "code",
      "source": [
        "# e) Write a Python script that takes input from the user and displays that input back in upper and lower cases.\n",
        "string = input(\"Give a String:\")\n",
        "new_strU =  string.upper();\n",
        "new_strL = string.lower();\n",
        "print(\"New upper string is:\",new_strU);  \n",
        "print(\"New lower string is:\",new_strL);  "
      ],
      "metadata": {
        "id": "znGcaWlzqXe7",
        "colab": {
          "base_uri": "https://localhost:8080/"
        },
        "outputId": "420c00fb-eea0-4d4a-ac31-0f7e4a06bba8"
      },
      "execution_count": null,
      "outputs": [
        {
          "output_type": "stream",
          "name": "stdout",
          "text": [
            "Give a String:Md. Mahfuzur Rahman\n",
            "New upper string is: MD. MAHFUZUR RAHMAN\n",
            "New lower string is: md. mahfuzur rahman\n"
          ]
        }
      ]
    },
    {
      "cell_type": "code",
      "source": [
        "# f) Write a Python program to sort a string\n",
        "string = \"write a python program to sort a string\"\n",
        "\n",
        "# printing as is:\n",
        "print(\"Given string :\", string)\n",
        "sorted_str = ''.join(sorted(string))\n",
        "\n",
        "print(\"After sorting : \", sorted_str)"
      ],
      "metadata": {
        "id": "B321C_0Tq9ui",
        "colab": {
          "base_uri": "https://localhost:8080/"
        },
        "outputId": "664394cc-8f55-49ed-c846-7b0400676adb"
      },
      "execution_count": null,
      "outputs": [
        {
          "output_type": "stream",
          "name": "stdout",
          "text": [
            "Given string : write a python program to sort a string\n",
            "After sorting :         aaaegghiimnnoooopprrrrrsstttttwy\n"
          ]
        }
      ]
    },
    {
      "cell_type": "code",
      "source": [
        "# g) Write a Python program to reverse a string.\n",
        "string = \"Write a Python program to reverse a string.\"\n",
        "\n",
        "# printing as is:\n",
        "print(\"Given string :\", string)\n",
        "rev_str = \"\"\n",
        "for i in string:  \n",
        "        rev_str = i + rev_str\n",
        "\n",
        "print(\"After reverse :\", rev_str)"
      ],
      "metadata": {
        "id": "_t0u3s83rCUC",
        "colab": {
          "base_uri": "https://localhost:8080/"
        },
        "outputId": "2b216a87-3e78-4a47-d1e6-a4acb08694c8"
      },
      "execution_count": null,
      "outputs": [
        {
          "output_type": "stream",
          "name": "stdout",
          "text": [
            "Given string : Write a Python program to reverse a string.\n",
            "After reverse : .gnirts a esrever ot margorp nohtyP a etirW\n"
          ]
        }
      ]
    },
    {
      "cell_type": "code",
      "source": [
        "# h) Write a Python program to convert a given string into a list.\n",
        "string = \"Write a Python program to convert a given string into a list\"\n",
        "li = list(string.split(\" \"))\n",
        "\n",
        "print(\"After listing : \", li)"
      ],
      "metadata": {
        "id": "EKqYDmSBrEby",
        "colab": {
          "base_uri": "https://localhost:8080/"
        },
        "outputId": "20c07fb1-9848-4234-f5e8-a5599a0c539c"
      },
      "execution_count": null,
      "outputs": [
        {
          "output_type": "stream",
          "name": "stdout",
          "text": [
            "After listing :  ['Write', 'a', 'Python', 'program', 'to', 'convert', 'a', 'given', 'string', 'into', 'a', 'list']\n"
          ]
        }
      ]
    },
    {
      "cell_type": "markdown",
      "source": [
        "**Python: Lists**\n",
        "\n",
        "a) Write a Python program to sum (or product) all the items in a list\n",
        "\n",
        "b) Write a Python program to get the largest/smallest number from a list\n",
        "\n",
        "c) Write a Python program to print the numbers of a specified list after removing even numbers\n",
        "from it\n",
        "\n",
        "d) Write a Python program to select the odd number of a list\n",
        "\n",
        "e) Write a Python program to convert a list of characters into a string\n",
        "\n",
        "f) Write a Python program to find the index of an item in a specified list\n",
        "\n",
        "g) Write a Python program to add a list to the second list\n",
        "\n",
        "h) Write a Python program to get unique values from a list and to count unique values inside a\n",
        "list. Also get the frequency of the elements in the list.\n",
        "\n",
        "i) Write a Python Program to Extract elements with Frequency greater than K\n",
        "\n",
        "j) Write a Python program to reverse All Strings in String List"
      ],
      "metadata": {
        "id": "z0e01KEKvoFA"
      }
    },
    {
      "cell_type": "code",
      "source": [
        "# a) Write a Python program to sum (or product) all the items in a list\n",
        "items = [12,45,25,14,78,65,23,78]\n",
        "  #print(items)\n",
        "sum_items = 0\n",
        "cumulative_sum = []\n",
        "\n",
        "for x in items:\n",
        "  sum_items += x\n",
        "  cumulative_sum.append(sum_items)\n",
        "\n",
        "print(\"Given numbers are :\", items)\n",
        "print (\"After Summation : \",sum_items)\n",
        "# for helping summation\n",
        "print (\"Cumulative sum : \",cumulative_sum)"
      ],
      "metadata": {
        "id": "wVeZXng0wPEs",
        "colab": {
          "base_uri": "https://localhost:8080/"
        },
        "outputId": "ad101342-fac4-483f-dc58-87b5e450ee64"
      },
      "execution_count": null,
      "outputs": [
        {
          "output_type": "stream",
          "name": "stdout",
          "text": [
            "Given numbers are : [12, 45, 25, 14, 78, 65, 23, 78]\n",
            "After Summation :  340\n",
            "Cumulative sum :  [12, 57, 82, 96, 174, 239, 262, 340]\n"
          ]
        }
      ]
    },
    {
      "cell_type": "code",
      "source": [
        "# b) Write a Python program to get the largest/smallest number from a list\n",
        "items = [12,45,25,14,78,65,23,75]\n",
        "print(items)\n",
        "items.sort()\n",
        "smallest = items[0]\n",
        "items.sort(reverse = True)\n",
        "largest = items[0]\n",
        "\n",
        "print (\"smallest : \",smallest)\n",
        "print (\"largest : \",largest)\n",
        "print (\"Sorted List : \",sorted(items))"
      ],
      "metadata": {
        "id": "ubY3jrq1ysR0",
        "colab": {
          "base_uri": "https://localhost:8080/"
        },
        "outputId": "8c951f03-e5c8-4b5d-9c5a-cedaafef03fb"
      },
      "execution_count": 21,
      "outputs": [
        {
          "output_type": "stream",
          "name": "stdout",
          "text": [
            "[12, 45, 25, 14, 78, 65, 23, 75]\n",
            "smallest :  12\n",
            "largest :  78\n",
            "Sorted List :  [12, 14, 23, 25, 45, 65, 75, 78]\n"
          ]
        }
      ]
    },
    {
      "cell_type": "code",
      "source": [
        "# c) Write a Python program to print the numbers of a specified list after removing even numbers from it\n",
        "items = [12,45,25,14,78,65,23,78,39]\n",
        "\n",
        "#new_items = [x for x in items if x%2!=0]\n",
        "new_items = []\n",
        "for x in items:  \n",
        "    if(x % 2==1):    \n",
        "        new_items.append(x)\n",
        "    \n",
        "print(\"New list is:\",new_items); \n"
      ],
      "metadata": {
        "id": "FK4L2agJysf0",
        "colab": {
          "base_uri": "https://localhost:8080/"
        },
        "outputId": "8311ac96-4e52-4bca-9b27-b17abe718f12"
      },
      "execution_count": 16,
      "outputs": [
        {
          "output_type": "stream",
          "name": "stdout",
          "text": [
            "New list is: [45, 25, 65, 23, 39]\n"
          ]
        }
      ]
    },
    {
      "cell_type": "code",
      "source": [
        "# d) Write a Python program to select the odd number of a list\n",
        "items = [12,45,25,14,78,65,23,78,39]\n",
        "\n",
        "new_items = []\n",
        "for x in items:  \n",
        "    if(x % 2==1):     \n",
        "        new_items.append(x)\n",
        "    \n",
        "print(\"New list is:\",new_items); "
      ],
      "metadata": {
        "id": "2LixBUqeyuFE",
        "colab": {
          "base_uri": "https://localhost:8080/"
        },
        "outputId": "204ee643-89ed-48aa-e953-96a87ab58c4d"
      },
      "execution_count": 15,
      "outputs": [
        {
          "output_type": "stream",
          "name": "stdout",
          "text": [
            "New list is: [45, 25, 65, 23, 39]\n"
          ]
        }
      ]
    },
    {
      "cell_type": "code",
      "source": [
        "# e) Write a Python program to convert a list of characters into a string\n",
        "s = ['P', 'y', 't', 'h', 'o', 'n']\n",
        "string = ''.join(s)\n",
        "\n",
        "print(\"New string is:\",string); "
      ],
      "metadata": {
        "id": "ZwVUv-QGyuPH",
        "colab": {
          "base_uri": "https://localhost:8080/"
        },
        "outputId": "876c29a0-c42d-4a20-bcfe-99bb70fb4f3e"
      },
      "execution_count": 14,
      "outputs": [
        {
          "output_type": "stream",
          "name": "stdout",
          "text": [
            "New string is: Python\n"
          ]
        }
      ]
    },
    {
      "cell_type": "code",
      "source": [
        "# f) Write a Python program to find the index of an item in a specified list\n",
        "items = [12,45,29,14,78,65,23,78,39]\n",
        "print(\"Original items : \", items)\n",
        " \n",
        "K  = int(input(\"Give a value for finding index :\"))\n",
        "if  K in items:\n",
        "  print(\"the index of the item is :\", items.index(K))\n",
        "else:\n",
        "  print(\"Given value in not in list.\")"
      ],
      "metadata": {
        "id": "C_fTZwweyuZL",
        "colab": {
          "base_uri": "https://localhost:8080/"
        },
        "outputId": "53c90991-cc38-4a9d-85b4-23609c485827"
      },
      "execution_count": 13,
      "outputs": [
        {
          "output_type": "stream",
          "name": "stdout",
          "text": [
            "Original items :  [12, 45, 29, 14, 78, 65, 23, 78, 39]\n",
            "Give a value for finding index :65\n",
            "the index of the item is : 5\n"
          ]
        }
      ]
    },
    {
      "cell_type": "code",
      "source": [
        "#g) Write a Python program to add a list to the second list\n",
        "\n",
        "items = [12,45,29,14,78,65,23,78,39]\n",
        "\n",
        "items2 = ['Red', 'Green', 'Blue', 'Black','Cyan']\n",
        "\n",
        "final_list = items + items2\n",
        "\n",
        "print( final_list)"
      ],
      "metadata": {
        "id": "v4ptdC3ByukM",
        "colab": {
          "base_uri": "https://localhost:8080/"
        },
        "outputId": "902d0118-1e28-456a-8a0b-815d8055db41"
      },
      "execution_count": 7,
      "outputs": [
        {
          "output_type": "stream",
          "name": "stdout",
          "text": [
            "[12, 45, 29, 14, 78, 65, 23, 78, 39, 'Red', 'Green', 'Blue', 'Black', 'Cyan']\n"
          ]
        }
      ]
    },
    {
      "cell_type": "code",
      "source": [
        "# h) Write a Python program to get unique values from a list and to count unique values inside a list. \n",
        "# Also get the frequency of the elements in the list.\n",
        "\n",
        "items = [12,45,39,23,78,39,65,23,78,39]\n",
        "\n",
        "ulist = []\n",
        "clist = []\n",
        "\n",
        "for x in items:\n",
        "    if x not in ulist:\n",
        "        ulist.append(x)\n",
        "print( ulist)\n",
        "\n",
        "for x in ulist:\n",
        " clist.append(items.count(x))\n",
        "\n",
        "\n",
        "for i in range(len(ulist)):\n",
        "   print(ulist[i],\" is \",clist[i],\"time(s)\")\n",
        "\n",
        "print(\"frequency of the elements\",clist) "
      ],
      "metadata": {
        "id": "oiYdovBpyxFj",
        "colab": {
          "base_uri": "https://localhost:8080/"
        },
        "outputId": "1eaf0ed1-592e-42ee-b80c-145d787ad7cd"
      },
      "execution_count": 6,
      "outputs": [
        {
          "output_type": "stream",
          "name": "stdout",
          "text": [
            "[12, 45, 39, 23, 78, 65]\n",
            "12  is  1 time(s)\n",
            "45  is  1 time(s)\n",
            "39  is  3 time(s)\n",
            "23  is  2 time(s)\n",
            "78  is  2 time(s)\n",
            "65  is  1 time(s)\n",
            "frequency of the elements [1, 1, 3, 2, 2, 1]\n"
          ]
        }
      ]
    },
    {
      "cell_type": "code",
      "source": [
        "# i) Write a Python Program to Extract elements with Frequency greater than K\n",
        "\n",
        "items = [9, 4, 7,6, 2, 3, 7, 2, 4, 3, 3, 9, 4, 3, 7, 8, 9, 8, 5, 2, 3, 9, 2, 1, 7]\n",
        "print(\"Original items : \", items)\n",
        " \n",
        "K  = input(\"Give K value:\")\n",
        "if int(K) > -1 :\n",
        "  res = []\n",
        "  K = int(K)\n",
        "  for i in items:\n",
        "      freq = items.count(i)\n",
        "      if freq > K and i not in res:\n",
        "          res.append(i)\n",
        "  print(\"Frequency greater than K : \", res)\n",
        "\n",
        "else:\n",
        "  print(\"Given K value is not a number.\") \n"
      ],
      "metadata": {
        "id": "qsSH3EoeyxRC",
        "colab": {
          "base_uri": "https://localhost:8080/"
        },
        "outputId": "f68e6c6c-2555-4c62-cf54-3f4033ce86f1"
      },
      "execution_count": null,
      "outputs": [
        {
          "output_type": "stream",
          "name": "stdout",
          "text": [
            "Original items :  [9, 4, 7, 6, 2, 3, 7, 2, 4, 3, 3, 9, 4, 3, 7, 8, 9, 8, 5, 2, 3, 9, 2, 1, 7]\n",
            "Give K value:2\n",
            "Frequency greater than K :  [9, 4, 7, 2, 3]\n"
          ]
        }
      ]
    },
    {
      "cell_type": "code",
      "source": [
        "# j) Write a Python program to reverse All Strings in String List\n",
        "\n",
        "items = ['Red', 'Green', 'Blue', 'Black','Cyan']\n",
        "rlist = []\n",
        "\n",
        "for x in items:\n",
        "  rlist.append(x[::-1])\n",
        "  \n",
        "print( \"Original items:\",items)\n",
        "print( \"Reverse items:\",rlist)"
      ],
      "metadata": {
        "id": "AhrjD6zsyxzb",
        "colab": {
          "base_uri": "https://localhost:8080/"
        },
        "outputId": "e248a876-1d13-4516-f15f-9e9a3358ab2e"
      },
      "execution_count": 5,
      "outputs": [
        {
          "output_type": "stream",
          "name": "stdout",
          "text": [
            "Original items: ['Red', 'Green', 'Blue', 'Black', 'Cyan']\n",
            "Reverse items: ['deR', 'neerG', 'eulB', 'kcalB', 'nayC']\n"
          ]
        }
      ]
    },
    {
      "cell_type": "markdown",
      "source": [
        "**Python : Dictionary**\n",
        "\n",
        "a) Write a Python script to create a dictionary (i) Create a dictionary named **fruit** with keys:\n",
        "(names, color, taste). add Mango and Lemon as the value of key- **names**, **yellow** and **green** as\n",
        "the value of color, sweet and sour as the value of taste. (ii) display the dictionary. (iii) add a\n",
        "new value, **Apple** in the names\n",
        "\n",
        "b) Write a Python program to add a key to a dictionary\n",
        "\n",
        "c) Write a Python program to check whether a given key already exists in a dictionary.\n",
        "\n",
        "d) Access dictionary key’s element by index.\n",
        "\n",
        "e) Write a Python program to iterate over dictionaries using for loops.\n",
        "\n",
        "f) Write a Python script to print a dictionary where the keys are numbers between 1 and n (both included) and the values are square of keys.\n",
        "\n",
        "g) Create a dictionary by extracting the keys from a given dictionary\n",
        "\n",
        "h) Write a Python program to Rename key of a dictionary\n",
        "\n",
        "i) Write a program to print only keys of a dictionary\n",
        "\n",
        "j) Write a program to print values of dictionary."
      ],
      "metadata": {
        "id": "prAVOyiEwQYz"
      }
    },
    {
      "cell_type": "code",
      "source": [
        "# a) Write a Python script to create a dictionary \n",
        "# (i) Create a dictionary named fruit with keys: (names, color, taste). \n",
        "#     add Mango and Lemon as the value of key- names, yellow \n",
        "#     and green as the value of color, sweet and sour as the value of taste. \n",
        "# (ii) display the dictionary. \n",
        "# (iii) add a new value, Apple in the names\n",
        "#\n",
        "\n",
        "fruit = {\"names\": [\"Mango\", \"Lemon\"], \"color\" :[\"yellow\", \"green\"] , \"taste\": [\"sweet\", \"sour\" ]}\n",
        "keys = fruit.keys();\n",
        "values = fruit.values()\n",
        "print(\"Given dict :\",fruit)\n",
        "print(keys)\n",
        "print(values)\n",
        "fruit[\"names\"].append(\"Apple\")\n",
        "print(\"New dict :\",fruit)"
      ],
      "metadata": {
        "id": "NIG02kaXwWfi",
        "colab": {
          "base_uri": "https://localhost:8080/"
        },
        "outputId": "5e86e3dc-7542-4f12-efbd-b09021396b2a"
      },
      "execution_count": 4,
      "outputs": [
        {
          "output_type": "stream",
          "name": "stdout",
          "text": [
            "Given dict : {'names': ['Mango', 'Lemon'], 'color': ['yellow', 'green'], 'taste': ['sweet', 'sour']}\n",
            "dict_keys(['names', 'color', 'taste'])\n",
            "dict_values([['Mango', 'Lemon'], ['yellow', 'green'], ['sweet', 'sour']])\n",
            "New dict : {'names': ['Mango', 'Lemon', 'Apple'], 'color': ['yellow', 'green'], 'taste': ['sweet', 'sour']}\n"
          ]
        }
      ]
    },
    {
      "cell_type": "code",
      "source": [
        "# b) Write a Python program to add a key to a dictionary\n",
        "\n",
        "fruit = {\"names\": [\"Mango\", \"Lemon\"], \"color\" :[\"yellow\", \"green\"] , \"taste\": [\"sweet\", \"sour\" ]}\n",
        "print(fruit.keys())\n",
        "fruit[\"calories\"] =[]           # only key\n",
        "#fruit[\"calories\"] = [35,22]    # key with values\n",
        "\n",
        "print(fruit.keys())\n",
        "print(\"New dict :\",fruit)"
      ],
      "metadata": {
        "id": "RKvGJRlk7Waj",
        "colab": {
          "base_uri": "https://localhost:8080/"
        },
        "outputId": "71a6b41c-1faf-4fbd-8eef-f51b0327e11a"
      },
      "execution_count": 3,
      "outputs": [
        {
          "output_type": "stream",
          "name": "stdout",
          "text": [
            "dict_keys(['names', 'color', 'taste'])\n",
            "dict_keys(['names', 'color', 'taste', 'calories'])\n",
            "New dict : {'names': ['Mango', 'Lemon'], 'color': ['yellow', 'green'], 'taste': ['sweet', 'sour'], 'calories': []}\n"
          ]
        }
      ]
    },
    {
      "cell_type": "code",
      "source": [
        "# c) Write a Python program to check whether a given key already exists in a dictionary.\n",
        "\n",
        "fruit = {\"names\": [\"Mango\", \"Lemon\"], \"color\" :[\"yellow\", \"green\"] , \"taste\": [\"sweet\", \"sour\" ]}\n",
        "key = input(\"check the key :\")\n",
        "\n",
        "if key in fruit.keys():\n",
        "   print(key,\"is exist.\")\n",
        "else:\n",
        "   print(key, \"is not exist.\")\n"
      ],
      "metadata": {
        "id": "Cx2V327C7WlY",
        "colab": {
          "base_uri": "https://localhost:8080/"
        },
        "outputId": "53490782-bcbf-4afe-b87a-768673ac38db"
      },
      "execution_count": null,
      "outputs": [
        {
          "output_type": "stream",
          "name": "stdout",
          "text": [
            "check the key :taste\n",
            "taste is exist.\n"
          ]
        }
      ]
    },
    {
      "cell_type": "code",
      "source": [
        "# d) Access dictionary key’s element by index.\n",
        "fruits = {\"names\": [\"Mango\", \"Lemon\"], \"color\" :[\"yellow\", \"green\"] , \"taste\": [\"sweet\", \"sour\" ]}\n",
        "\n",
        "print(\"Given dict :\",fruits)\n",
        "print(\"Keys are :\",fruits.keys())\n",
        "key_i = int(input(\"Give the index of key :\"))\n",
        "\n",
        "if key_i < len(fruits.keys()) and key_i > -1:\n",
        "  print(\"Key  is   :\",list(fruits)[key_i])\n",
        "  print(\"Values Are:\",list(fruits.values())[key_i])\n",
        "else:\n",
        "  print(\"Out of index Range\")\n"
      ],
      "metadata": {
        "id": "LVew5CSj7Wp5",
        "colab": {
          "base_uri": "https://localhost:8080/"
        },
        "outputId": "7a48cd71-1e8d-44e4-cec8-95129c386559"
      },
      "execution_count": 1,
      "outputs": [
        {
          "output_type": "stream",
          "name": "stdout",
          "text": [
            "Given dict : {'names': ['Mango', 'Lemon'], 'color': ['yellow', 'green'], 'taste': ['sweet', 'sour']}\n",
            "Keys are : dict_keys(['names', 'color', 'taste'])\n",
            "Give the index of key :1\n",
            "Key  is   : color\n",
            "Values Are: ['yellow', 'green']\n"
          ]
        }
      ]
    },
    {
      "cell_type": "code",
      "source": [
        "# e) Write a Python program to iterate over dictionaries using for loops.\n",
        "fruit = {\"names\": [\"Mango\", \"Lemon\"], \"color\" :[\"yellow\", \"green\"] , \"taste\": [\"sweet\", \"sour\" ]}\n",
        "\n",
        "for key in fruit:\n",
        "    print(key, fruit[key])\n",
        "    "
      ],
      "metadata": {
        "id": "dNz4h7ab7WuB",
        "colab": {
          "base_uri": "https://localhost:8080/"
        },
        "outputId": "71a81d69-b450-4e5a-d7aa-85dffd4b8ecb"
      },
      "execution_count": null,
      "outputs": [
        {
          "output_type": "stream",
          "name": "stdout",
          "text": [
            "names ['Mango', 'Lemon']\n",
            "color ['yellow', 'green']\n",
            "taste ['sweet', 'sour']\n"
          ]
        }
      ]
    },
    {
      "cell_type": "code",
      "source": [
        "# f) Write a Python script to print a dictionary where the keys are numbers \n",
        "#    between 1 and n (both included) and the values are square of keys.\n",
        "my_dict = dict()\n",
        "n = int(input(\"Give the nth key :\"))\n",
        "\n",
        "for i in range(1,n+1):\n",
        "  my_dict[i]= i*i\n",
        " \n",
        "print(\"type(my_dict) =\",type(my_dict))\n",
        "print(my_dict)\n"
      ],
      "metadata": {
        "id": "i95jT0HQ7YnR",
        "colab": {
          "base_uri": "https://localhost:8080/"
        },
        "outputId": "996d1f62-d1dd-4338-c42d-55b64084f509"
      },
      "execution_count": null,
      "outputs": [
        {
          "output_type": "stream",
          "name": "stdout",
          "text": [
            "Give the nth key :7\n",
            "type(my_dict) = <class 'dict'>\n",
            "{1: 1, 2: 4, 3: 9, 4: 16, 5: 25, 6: 36, 7: 49}\n"
          ]
        }
      ]
    },
    {
      "cell_type": "code",
      "source": [
        "# g) Create a dictionary by extracting the keys from a given dictionary\n",
        "\n",
        "fruit = {\"names\": [\"Mango\", \"Lemon\"], \"color\" :[\"yellow\", \"green\"] , \"taste\": [\"sweet\", \"sour\" ]}\n",
        "\n",
        "print(\"Given dictionary :\",fruit)\n",
        "keys_to_extract = ['names', 'taste']\n",
        "print(\"keys are :\",keys_to_extract)\n",
        "\n",
        "new_dict = dict()\n",
        "\n",
        "for key, value in fruit.items():\n",
        "    if key in keys_to_extract:\n",
        "        new_dict[key] = value\n",
        "\n",
        "print(\"The extracted new dictionary is :\", new_dict)\n"
      ],
      "metadata": {
        "id": "ljNWi63i7Yu5",
        "colab": {
          "base_uri": "https://localhost:8080/"
        },
        "outputId": "2f5b87a3-b1ec-4c9f-9222-beec3329dd79"
      },
      "execution_count": null,
      "outputs": [
        {
          "output_type": "stream",
          "name": "stdout",
          "text": [
            "Given dictionary : {'names': ['Mango', 'Lemon'], 'color': ['yellow', 'green'], 'taste': ['sweet', 'sour']}\n",
            "keys are : ['names', 'taste']\n",
            "The extracted new dictionary is : {'names': ['Mango', 'Lemon'], 'taste': ['sweet', 'sour']}\n"
          ]
        }
      ]
    },
    {
      "cell_type": "code",
      "source": [
        "# h) Write a Python program to Rename key of a dictionary\n",
        "\n",
        "fruit = {\"names\": [\"Mango\", \"Lemon\"], \"color\" :[\"yellow\", \"green\"] , \"taste\": [\"sweet\", \"sour\" ]}\n",
        "print(\"Given dictionary :\",fruit)\n",
        "fruit[\"name\"]= fruit.pop(\"names\")\n",
        "print(\"After renaming :\", fruit)"
      ],
      "metadata": {
        "id": "N6RJ85Ng7Y2A",
        "colab": {
          "base_uri": "https://localhost:8080/"
        },
        "outputId": "ec51d5bc-b349-4383-c414-2929209c0af4"
      },
      "execution_count": 2,
      "outputs": [
        {
          "output_type": "stream",
          "name": "stdout",
          "text": [
            "Given dictionary : {'names': ['Mango', 'Lemon'], 'color': ['yellow', 'green'], 'taste': ['sweet', 'sour']}\n",
            "After renaming : {'color': ['yellow', 'green'], 'taste': ['sweet', 'sour'], 'name': ['Mango', 'Lemon']}\n"
          ]
        }
      ]
    },
    {
      "cell_type": "code",
      "source": [
        "# i) Write a program to print only keys of a dictionary\n",
        "\n",
        "fruit = {\"names\": [\"Mango\", \"Lemon\"], \"color\" :[\"yellow\", \"green\"] , \"taste\": [\"sweet\", \"sour\" ]}\n",
        "# keys = fruit.keys()\n",
        "\n",
        "print(\"Given dictionary :\",fruit)\n",
        "print(\"Keys are :\")\n",
        "for x in fruit.keys():\n",
        "  print(\"\\t\",x)\n"
      ],
      "metadata": {
        "id": "lFES8TFM7Y9M",
        "colab": {
          "base_uri": "https://localhost:8080/"
        },
        "outputId": "ac8a9a41-576d-46ab-daed-ddca9e905d7b"
      },
      "execution_count": null,
      "outputs": [
        {
          "output_type": "stream",
          "name": "stdout",
          "text": [
            "Given dictionary : {'names': ['Mango', 'Lemon'], 'color': ['yellow', 'green'], 'taste': ['sweet', 'sour']}\n",
            "Keys are :\n",
            "\t names\n",
            "\t color\n",
            "\t taste\n"
          ]
        }
      ]
    },
    {
      "cell_type": "code",
      "source": [
        "#  j) Write a program to print values of dictionary.\n",
        "\n",
        "fruit = {\"names\": [\"Mango\", \"Lemon\"], \"color\" :[\"yellow\", \"green\"] , \"taste\": [\"sweet\", \"sour\" ]}\n",
        "#values = fruit.values()\n",
        "print(\"Given dictionary :\",fruit)\n",
        "\n",
        "print(\"Values are :\")\n",
        "for x in fruit.values():\n",
        "  print(\"\\t\",x)\n"
      ],
      "metadata": {
        "id": "7NXUKoRJ7ZEa",
        "colab": {
          "base_uri": "https://localhost:8080/"
        },
        "outputId": "ed8908a9-5fbb-4786-b208-640c947f214b"
      },
      "execution_count": null,
      "outputs": [
        {
          "output_type": "stream",
          "name": "stdout",
          "text": [
            "Given dictionary : {'names': ['Mango', 'Lemon'], 'color': ['yellow', 'green'], 'taste': ['sweet', 'sour']}\n",
            "Values are :\n",
            "\t ['Mango', 'Lemon']\n",
            "\t ['yellow', 'green']\n",
            "\t ['sweet', 'sour']\n"
          ]
        }
      ]
    },
    {
      "cell_type": "markdown",
      "source": [
        "Python: Loops\n",
        "\n",
        "a) Print First 10 natural numbers using while loop\n",
        "\n",
        "b) Write a program to print multiplication table of a given number\n",
        "\n",
        "c) Display numbers from a list using loop\n",
        "\n",
        "d) Print list in reverse order using a loop\n",
        "\n",
        "e) Display numbers from -10 to -1 using for loop\n",
        "\n",
        "f) Find the factorial of a given number\n",
        "\n",
        "g) Use a loop to display elements from a given list present at odd index positions\n",
        "\n",
        "h) Calculate the cube of all numbers from 1 to a given number"
      ],
      "metadata": {
        "id": "D3V0oPQrwZ3U"
      }
    },
    {
      "cell_type": "code",
      "source": [
        "#  a) Print First 10 natural numbers using while loop\n",
        "\n",
        "i = 1\n",
        "while i <= 10:\n",
        "    print(i)\n",
        "    i += 1"
      ],
      "metadata": {
        "id": "RMf3t0iKwZEj",
        "colab": {
          "base_uri": "https://localhost:8080/"
        },
        "outputId": "09e3d217-0fb1-4015-ff9e-af7de68a5252"
      },
      "execution_count": null,
      "outputs": [
        {
          "output_type": "stream",
          "name": "stdout",
          "text": [
            "1\n",
            "2\n",
            "3\n",
            "4\n",
            "5\n",
            "6\n",
            "7\n",
            "8\n",
            "9\n",
            "10\n"
          ]
        }
      ]
    },
    {
      "cell_type": "code",
      "source": [
        "#  b) Write a program to print multiplication table of a given number\n",
        "\n",
        "x = int(input(\"Give a number for multiplication table : \"))\n",
        "\n",
        "i = 1\n",
        "while i <= 10:\n",
        "    print( x, \" x \", i, \" = \", x*i)\n",
        "    i += 1\n",
        "\n"
      ],
      "metadata": {
        "id": "LolI7WXU9EVm",
        "colab": {
          "base_uri": "https://localhost:8080/"
        },
        "outputId": "5c67391a-d00f-4b1c-8668-46b563b0cbd1"
      },
      "execution_count": null,
      "outputs": [
        {
          "output_type": "stream",
          "name": "stdout",
          "text": [
            "Give a number for multiplication table : 7\n",
            "7  x  1  =  7\n",
            "7  x  2  =  14\n",
            "7  x  3  =  21\n",
            "7  x  4  =  28\n",
            "7  x  5  =  35\n",
            "7  x  6  =  42\n",
            "7  x  7  =  49\n",
            "7  x  8  =  56\n",
            "7  x  9  =  63\n",
            "7  x  10  =  70\n"
          ]
        }
      ]
    },
    {
      "cell_type": "code",
      "source": [
        "#  c) Display numbers from a list using loop\n",
        "list = [3,4,2,6,7,9,12,32,45,55]\n",
        "i = 0\n",
        "while i < len(list):\n",
        "    print(  \"Item\", i+1,\"Index\", i, \" = \", list[i])\n",
        "    i += 1\n"
      ],
      "metadata": {
        "id": "eKtiYy8F9FPu",
        "colab": {
          "base_uri": "https://localhost:8080/"
        },
        "outputId": "79637a23-6aa0-482e-b415-1e2e7656fbda"
      },
      "execution_count": null,
      "outputs": [
        {
          "output_type": "stream",
          "name": "stdout",
          "text": [
            "Item 1 Index 0  =  3\n",
            "Item 2 Index 1  =  4\n",
            "Item 3 Index 2  =  2\n",
            "Item 4 Index 3  =  6\n",
            "Item 5 Index 4  =  7\n",
            "Item 6 Index 5  =  9\n",
            "Item 7 Index 6  =  12\n",
            "Item 8 Index 7  =  32\n",
            "Item 9 Index 8  =  45\n",
            "Item 10 Index 9  =  55\n"
          ]
        }
      ]
    },
    {
      "cell_type": "code",
      "source": [
        "#  d) Print list in reverse order using a loop\n",
        "\n",
        "list = [3,4,2,6,7,9,12,32,45,55]\n",
        "i = len(list)-1\n",
        "while i >= 0:\n",
        "    print(  \"Item\", i+1,\"Index\", i, \" = \", list[i])\n",
        "    i -= 1"
      ],
      "metadata": {
        "id": "vI4-g4rc9GVl",
        "colab": {
          "base_uri": "https://localhost:8080/"
        },
        "outputId": "a21beebc-0b4a-4b0d-b6ae-cc1adab9da80"
      },
      "execution_count": null,
      "outputs": [
        {
          "output_type": "stream",
          "name": "stdout",
          "text": [
            "Item 10 Index 9  =  55\n",
            "Item 9 Index 8  =  45\n",
            "Item 8 Index 7  =  32\n",
            "Item 7 Index 6  =  12\n",
            "Item 6 Index 5  =  9\n",
            "Item 5 Index 4  =  7\n",
            "Item 4 Index 3  =  6\n",
            "Item 3 Index 2  =  2\n",
            "Item 2 Index 1  =  4\n",
            "Item 1 Index 0  =  3\n"
          ]
        }
      ]
    },
    {
      "cell_type": "code",
      "source": [
        "#  e) Display numbers from -10 to -1 using for loop\n",
        "\n",
        "for i in range(-10,0,1):\n",
        "  print(i)"
      ],
      "metadata": {
        "id": "qdFP_-Mg9Gnx",
        "colab": {
          "base_uri": "https://localhost:8080/"
        },
        "outputId": "a7c8726f-dcc5-405b-f360-875c43723679"
      },
      "execution_count": null,
      "outputs": [
        {
          "output_type": "stream",
          "name": "stdout",
          "text": [
            "-10\n",
            "-9\n",
            "-8\n",
            "-7\n",
            "-6\n",
            "-5\n",
            "-4\n",
            "-3\n",
            "-2\n",
            "-1\n"
          ]
        }
      ]
    },
    {
      "cell_type": "code",
      "source": [
        "#  f) Find the factorial of a given number\n",
        "\n",
        "num = int(input(\"Give a number for factorial : \"))\n",
        "fact = 1\n",
        "\n",
        "# check if the number is negative, positive or zero\n",
        "if num < 0:\n",
        "   print(\"Sorry, factorial does not exist for negative numbers\")\n",
        "elif num == 0:\n",
        "   print(\"The factorial of 0 is 1\")\n",
        "else:\n",
        "   for i in range(1,num + 1):\n",
        "       fact = fact*i\n",
        "   print(\"The factorial of\",num,\"is\",fact)\n"
      ],
      "metadata": {
        "id": "6cgbc7W09G0d",
        "colab": {
          "base_uri": "https://localhost:8080/"
        },
        "outputId": "e591610e-9330-406a-eb88-c2936a0a0b50"
      },
      "execution_count": null,
      "outputs": [
        {
          "output_type": "stream",
          "name": "stdout",
          "text": [
            "Give a number for factorial : 6\n",
            "The factorial of 6 is 720\n"
          ]
        }
      ]
    },
    {
      "cell_type": "code",
      "source": [
        "#  g) Use a loop to display elements from a given list present at odd index positions\n",
        "\n",
        "list = [3,4,2,6,7,9,12,32,45,55,88,93]\n",
        "\n",
        "for i in range(1,len(list),2):\n",
        "  print(\"list index : \", i ,\" Value :\", list[i])"
      ],
      "metadata": {
        "id": "Ss_97A3Y9HOl",
        "colab": {
          "base_uri": "https://localhost:8080/"
        },
        "outputId": "a3b2585c-c305-40c9-a39e-8051bb313422"
      },
      "execution_count": null,
      "outputs": [
        {
          "output_type": "stream",
          "name": "stdout",
          "text": [
            "list index :  1  Value : 4\n",
            "list index :  3  Value : 6\n",
            "list index :  5  Value : 9\n",
            "list index :  7  Value : 32\n",
            "list index :  9  Value : 55\n",
            "list index :  11  Value : 93\n"
          ]
        }
      ]
    },
    {
      "cell_type": "code",
      "source": [
        "#  h) Calculate the cube of all numbers from 1 to a given number\n",
        "\n",
        "num = float(input(\" Please Enter any numeric Value : \"))\n",
        "\n",
        "res = num **3\n",
        "print(\"The Cube of a Given Number {0}  = {1}\".format(num, res))\n"
      ],
      "metadata": {
        "id": "5aEcQCpO9IkN",
        "colab": {
          "base_uri": "https://localhost:8080/"
        },
        "outputId": "d9accbbb-edbe-443d-fa0f-27aa89727682"
      },
      "execution_count": null,
      "outputs": [
        {
          "output_type": "stream",
          "name": "stdout",
          "text": [
            " Please Enter any numeric Value : 5\n",
            "The Cube of a Given Number 5.0  = 125.0\n"
          ]
        }
      ]
    },
    {
      "cell_type": "markdown",
      "source": [
        "Python: User-defined Functions\n",
        "\n",
        "a) write a python program to create a function that will return a list of the unique digits in your\n",
        "class ID."
      ],
      "metadata": {
        "id": "7CdpC_UEwexq"
      }
    },
    {
      "cell_type": "code",
      "source": [
        "#  a) write a python program to create a function that will return a list of the unique digits in your class ID.\n",
        "\n",
        "def uniq_list(class_id):\n",
        "  res = []\n",
        "  for i in str(class_id):\n",
        "    if i.isdigit() and i not in res:\n",
        "      res.append(i)\n",
        "  return res\n",
        "\n",
        "my_class_id = \"PMASDS-20231085\"\n",
        "print(\"list of the unique digits :\", uniq_list(my_class_id))\n"
      ],
      "metadata": {
        "id": "n09QZ_LWwhZs",
        "colab": {
          "base_uri": "https://localhost:8080/"
        },
        "outputId": "51438979-1ba9-4d98-8a41-fdcffd9491f8"
      },
      "execution_count": null,
      "outputs": [
        {
          "output_type": "stream",
          "name": "stdout",
          "text": [
            "list of the unique digits : ['2', '0', '3', '1', '8', '5']\n"
          ]
        }
      ]
    }
  ]
}